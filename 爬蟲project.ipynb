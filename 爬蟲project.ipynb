{
  "nbformat": 4,
  "nbformat_minor": 0,
  "metadata": {
    "colab": {
      "provenance": []
    },
    "kernelspec": {
      "name": "python3",
      "display_name": "Python 3"
    },
    "language_info": {
      "name": "python"
    }
  },
  "cells": [
    {
      "cell_type": "code",
      "execution_count": null,
      "metadata": {
        "id": "UwBcgka1ZRc2"
      },
      "outputs": [],
      "source": [
        "from os.path import join  #os.path.join\n",
        "from bs4 import BeautifulSoup as bs\n",
        "from google.colab import drive\n",
        "import csv, sys, requests, json, re\n",
        "\n",
        "#取得下載點的資料\n",
        "def getCSV_From_URL(url):\n",
        "  # header的功能?? \n",
        "  header = {'user-agent':\"Mozilla/5.0 (Windows NT 10.0; Win64; x64) AppleWebKit/537.36 (KHTML, like Gecko) Chrome/80.0.3987.163 Safari/537.36\"}\n",
        "  try:\n",
        "    result = requests.get(url, headers=header, allow_redirects=True)\n",
        "  except:\n",
        "    result = \"Exception\"\n",
        "    print(\"{} has exception!!\".format(url))\n",
        "  return result\n",
        "\n",
        "#開啟檔案及轉成List\n",
        "def openFile(File): # File是檔名\n",
        "  with open(File) as myCSVFile:\n",
        "    csvReader = csv.reader(myCSVFile, delimiter=',', quotechar = '\"')\n",
        "    result = list(csvReader)\n",
        "  return result\n",
        "\n",
        "#顯示出幾行資料 \n",
        "def print_header_and_few_line(data, limit):\n",
        "\tcounter = 0\n",
        "\tfor i in data:\n",
        "\t\tif counter > limit:\n",
        "\t\t\tbreak\n",
        "\t\tprint(i)\n",
        "\t\tcounter += 1\n",
        "\n",
        "#取出欄位值\n",
        "def getColumnInedex():\n",
        "\tcolIndexList = []\n",
        "\tindexValue = int(input(\"請依序輸入你想要的欄位索引值, 輸入 -1 結束：\"))\n",
        "\t\n",
        "\twhile indexValue >= 0 :\n",
        "\t\tcolIndexList.append(indexValue)\n",
        "\t\tindexValue = int(input(\"請依序輸入你想要的欄位索引值, 輸入 -1 結束：\"))\n",
        "\treturn colIndexList\n",
        "\n",
        "#產生一行的SQL語法\n",
        "def genSQLValues(targetRow, selectedColumnList):\n",
        "\tresult = \"(\"\n",
        "\tfor i in selectedColumnList:\n",
        "\t\tresult += \"\\\"{}\\\",\".format(targetRow[i])\n",
        "  \n",
        "\tresult = result[:-1] + \"),\"\n",
        "\treturn result\n",
        "\n",
        "#產生全部的SOL語法\n",
        "def gen_SQL_insert_cmd(tablename, data, colIndex):\n",
        "  result = []\n",
        "  result.append(\"Insert into {} values (\".format(tablename))\n",
        "\t\n",
        "\t#處理到倒數第二行\n",
        "  for i in data[:-2]:\n",
        "    result.append(genSQLValues(i, colIndex))\n",
        "\t\n",
        "\t#最後一行要用 ); 所以獨立處理\n",
        "  lastValue = genSQLValues(data[-1], colIndex)\n",
        "  result.append(lastValue[:-1] + \");\\n\")\n",
        "  return result\n",
        " "
      ]
    },
    {
      "cell_type": "markdown",
      "source": [
        "主程式"
      ],
      "metadata": {
        "id": "ZXK1f_wooefY"
      }
    },
    {
      "cell_type": "code",
      "source": [
        "5ROOT = '/content/drive' #根目錄位址\n",
        "drive.mount(ROOT) #登入google drive\n",
        "PROJ = \"My Drive/DataScience/110-2/Final/410510008\" # This is a custom path.\n",
        "PROJECT_PATH = join(ROOT, PROJ)\n",
        "!mkdir -p \"{PROJECT_PATH}\"  #這行的意義??\n",
        "\n",
        "TAG_RE = re.compile(r'<[^>]+>') #正則表達式??\n",
        "code=[\"146626\"]\n",
        "studentId=\"410510008\"\n",
        "  \n",
        "for urlCode in code:\n",
        "  URL = \"https://data.gov.tw/dataset/{}\".format(urlCode)\n",
        "  result = requests.get(URL)\n",
        "  soup = bs(result.text, \"lxml\")\n",
        "\n",
        "  target = soup.select('script[type=\"application/ld+json\"]')\n",
        "  targetJson = json.loads(TAG_RE.sub('', str(target[0])))\n",
        "\n",
        "  #印出下載點\n",
        "  name = targetJson[1][\"name\"]\n",
        "  print(urlCode+\"-\"+name)\n",
        "  filepath = targetJson[1][\"distribution\"][0][\"contentUrl\"]\n",
        "  print(filepath)\n",
        "    \n",
        "  #像下載點發出request \n",
        "  data = getCSV_From_URL(filepath)\n",
        "    \n",
        "  #將檔案存入雲端中\n",
        "  myFile = join(PROJECT_PATH, urlCode+\"-\"+name+\".html\") # join(路徑, 檔案名稱)\n",
        "  with open(myFile, 'wb') as file:  #open(儲存路徑, 'w'=write , encoding編碼)\n",
        "    file.write(data.content)  # text跟content的差別???\n",
        "    file.close\n",
        "    \n",
        "  dataList = openFile(myFile)\n",
        "  limit = int(input(\"請輸入要顯示前面多少行：\"))\n",
        "  print_header_and_few_line(dataList, limit)\n",
        "\n",
        "  colIndexList = getColumnInedex()\n",
        "  colIndexList.sort\n",
        "  print(\"\\n你選擇的欄位為: {}\".format(colIndexList))\n",
        "  dataList = dataList[1:] #去除header\n",
        "\n",
        "  tabName = input(\"你要輸入的資料庫檔名是：\")\n",
        "  sqlList = gen_SQL_insert_cmd(tabName,dataList,colIndexList)\n",
        "\n",
        "  #印出SQL語法的前三行與末三行\n",
        "  print(\"產生資料的前三行與末三行為：\")\n",
        "  print(sqlList[:3])\n",
        "  print()\n",
        "  print(sqlList[-4:-1])\n",
        "    \n",
        "  # 將資料寫入一個SQL檔案\n",
        "  print(\"資料寫入檔案：{}.sql\".format(studentId))\n",
        "  mySQLFile = join(PROJECT_PATH, studentId+\".sql\")\n",
        "  with open(mySQLFile, 'w') as f:\n",
        "    for item in sqlList:\n",
        "      f.write(\"{}\\n\".format(item))"
      ],
      "metadata": {
        "colab": {
          "base_uri": "https://localhost:8080/"
        },
        "id": "aDEJ5_ze-uqb",
        "outputId": "2474cba3-1539-4c7e-b441-d0d254a5c867"
      },
      "execution_count": null,
      "outputs": [
        {
          "output_type": "stream",
          "name": "stdout",
          "text": [
            "Mounted at /content/drive\n",
            "146626-嬰兒出生數按嬰兒性別及生父母年齡分（按發生）\n",
            "https://data.moi.gov.tw/MoiOD/System/DownloadFile.aspx?DATA=596EA333-62C1-4035-B88D-8E38C4447A54\n",
            "請輸入要顯示前面多少行：3\n",
            "['\\ufeffstatistic_yyy', 'according', 'district_code', 'site_id', 'sex', 'father_age', 'mother_age', 'birth_count']\n",
            "['統計年度', '按照別', '區域別代碼', '區域別', '嬰兒性別', '生父年齡', '生母年齡', '嬰兒出生數']\n",
            "['109', '按發生日期分', '65000010', '新北市板橋區', '男', '未滿20歲', '未滿15歲', '0']\n",
            "['109', '按發生日期分', '65000010', '新北市板橋區', '男', '未滿20歲', '15～19歲', '0']\n",
            "請依序輸入你想要的欄位索引值, 輸入 -1 結束：1\n",
            "請依序輸入你想要的欄位索引值, 輸入 -1 結束：2\n",
            "請依序輸入你想要的欄位索引值, 輸入 -1 結束：3\n",
            "請依序輸入你想要的欄位索引值, 輸入 -1 結束：4\n",
            "請依序輸入你想要的欄位索引值, 輸入 -1 結束：5\n",
            "請依序輸入你想要的欄位索引值, 輸入 -1 結束：6\n",
            "請依序輸入你想要的欄位索引值, 輸入 -1 結束：7\n",
            "請依序輸入你想要的欄位索引值, 輸入 -1 結束：-1\n",
            "\n",
            "你選擇的欄位為: [1, 2, 3, 4, 5, 6, 7]\n"
          ]
        }
      ]
    },
    {
      "cell_type": "markdown",
      "source": [
        "open 讀寫模式: https://www.796t.com/content/1550169482.html"
      ],
      "metadata": {
        "id": "9mgV5cXN5GZv"
      }
    }
  ]
}